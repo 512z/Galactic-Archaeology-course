{
 "cells": [
  {
   "cell_type": "markdown",
   "metadata": {},
   "source": [
    "# Imports"
   ]
  },
  {
   "cell_type": "code",
   "execution_count": 30,
   "metadata": {},
   "outputs": [],
   "source": [
    "import os\n",
    "import matplotlib.pyplot as plt\n",
    "import numpy as np\n",
    "import pandas as pd\n",
    "from astropy.io.votable import parse\n",
    "import glob\n",
    "\n",
    "from matplotlib import rc\n",
    "font = {'family' : 'sans-serif',\n",
    "        'weight' : 'normal',\n",
    "        'size'   : 20}\t\n",
    "rc('font', **font)\n",
    "\n",
    "from sklearn.preprocessing import StandardScaler\n",
    "from sklearn.decomposition import PCA\n",
    "from sklearn.manifold import TSNE\n",
    "import umap            # umap-learn package\n"
   ]
  },
  {
   "cell_type": "markdown",
   "metadata": {},
   "source": [
    "----------------------------------------\n",
    "**Information about the data**\n",
    "\n",
    "Download from here: https://drive.google.com/file/d/1xuh69L_fO6G-h2rPsXdT0hs-f9bepVuZ/view?usp=sharing\n",
    "\n",
    "The rvsspec folder contains the relevant data:\n",
    "\n",
    "- individual RVS *.xml files \n",
    "- specpar.csv (parameters from the Gaia team)\n",
    "- cnn_gaia_rvs_catalog_guiglion_et_al_2023_v2.csv (CNN parameters from Guiglion et al. 2023)\n",
    "- rave_linelist.csv\n",
    "\n",
    "To obtain the XML files, I ran the query below on the Gaia archive\n",
    "and used the DataLink service to download the associated spectra.\n",
    "You could also adapt this to obtain additional parameters from Gaia.\n",
    "\n",
    "```\n",
    "SELECT TOP 5000 source_id\n",
    "   FROM gaiadr3.gaia_source\n",
    "  WHERE has_rvs = 'True'\n",
    "    AND random_index < 7000000\n",
    "    AND rvs_spec_sig_to_noise > 50 \n",
    "```\n",
    "----------------------------------------\n"
   ]
  },
  {
   "cell_type": "code",
   "execution_count": 2,
   "metadata": {},
   "outputs": [],
   "source": [
    "### GET RAVE LINELIST \n",
    "\n",
    "rave = pd.read_csv('rvsspec/rave_linelist.csv', delim_whitespace=True)\n",
    "\n",
    "## convert air to vacuum wavelengths\n",
    "sigma2 = (10000./rave.wl)**2.\n",
    "fact = 1.0 + (6.4328e-5 + 2.94981e-2 / (146. - sigma2) +\n",
    "               2.5540e-4 / (41. - sigma2))\n",
    "wl_vac = rave.wl*fact\n",
    "\n",
    "rave = rave.assign(wl_vac = wl_vac)\n",
    "\n",
    "## get lines for different elements\n",
    "rave_mg = rave[rave.el == \"MgI\"]\n",
    "rave_si = rave[rave.el == \"SiI\"]\n",
    "rave_ti = rave[rave.el == \"TiI\"]\n",
    "rave_ni = rave[rave.el == \"NiI\"]\n",
    "rave_al = rave[rave.el == \"AlI\"]\n",
    "rave_fe = rave[rave.el == \"FeI\"]"
   ]
  },
  {
   "cell_type": "code",
   "execution_count": 3,
   "metadata": {},
   "outputs": [],
   "source": [
    "### DEFINE PLOTTING FUNCTION \n",
    "\n",
    "def plot_spectra(spectra, wl_range, txt=None):\n",
    "\n",
    "    nspectra = min(10, len(spectra))\n",
    "    plt.figure(figsize=(14, 1.5 * nspectra))\n",
    "    ax = plt.subplot(111)\n",
    "    for i in range(nspectra):\n",
    "        ax.plot(wl_range, spectra.iloc[i][:2401] + i * 0.7, 'k-')\n",
    "    if txt is not None:\n",
    "        for i, t in enumerate(txt):\n",
    "            ax.text(wl_range[20], i * 0.7 + 1.1, t)\n",
    "    ax.set_ylim(0, 0.7 + 0.7 * nspectra)\n",
    "    ax.set_xlim(wl_range[0], wl_range[-1])\n",
    "    y0, y1 = ax.get_ylim()\n",
    "    ax.set_xlabel(r'Wavelength $\\mathrm{[\\AA]}$')\n",
    "    ax.set_ylabel(r'Flux')\n",
    "\n",
    "    ### PLOT RAVE LINELIST\n",
    "    for wlist, kleur,lab in zip([rave_mg.wl_vac, rave_si.wl_vac, rave_ti.wl_vac, rave_ni.wl_vac, rave_al.wl_vac, rave_fe.wl_vac],\n",
    "                            ['green', 'orange', 'cyan', 'magenta', 'blue', 'black'],\n",
    "                            ['Mg', 'Si', 'Ti', 'Ni', 'Al', 'Fe']):\n",
    "        for wli in wlist:\n",
    "            ax.axvline(wli, linewidth=1, linestyle='--', color=kleur)\n",
    "        \n",
    "        ax.axvline(0.0, linewidth=1, linestyle='--', color=kleur, label=lab)\n",
    "\n",
    "    for wl in (8500.35, 8544.44, 8664.52):\n",
    "        ax.plot([wl, wl], [y0, y1], color='grey', alpha=0.3)\n",
    "    ax.axvline(0.0, linewidth=1, linestyle='-', color='grey', alpha=0.3, label='Ca')\n",
    "\n",
    "    ax.legend(ncol=7, fontsize=14, loc='lower center', framealpha=0.8)\n",
    "\n",
    "    plt.show()"
   ]
  },
  {
   "cell_type": "markdown",
   "metadata": {},
   "source": [
    "# Data"
   ]
  },
  {
   "cell_type": "code",
   "execution_count": null,
   "metadata": {},
   "outputs": [],
   "source": [
    "par0 = pd.read_csv(\"rvsspec/cnn_gaia_rvs_catalog_guiglion_et_al_2023_v2.csv\")\n",
    "par = par0[(par0.flag_boundary == 0) & (par0.efeh < 0.25)]    # select stars with good parameters\n",
    "\n",
    "### you can come back here after going through the notebook, try what happens without the \"efeh\" cut\n",
    "\n",
    "list(par)\n"
   ]
  },
  {
   "cell_type": "code",
   "execution_count": null,
   "metadata": {},
   "outputs": [],
   "source": [
    "### could also try the Gaia team parameters (but first try the CNN ones above):\n",
    "# par = pd.read_csv(\"rvsspec/specpar.csv\")\n",
    "# par = par.rename(columns={'teff_gspspec':'teff', 'logg_gspspec':'logg','mh_gspspec':'mh','alphafe_gspspec':'alpham'})"
   ]
  },
  {
   "cell_type": "code",
   "execution_count": null,
   "metadata": {},
   "outputs": [],
   "source": [
    "files = glob.glob(\"rvsspec/*.xml\")\n",
    "\n",
    "spectra = pd.DataFrame()\n",
    "snrs = []\n",
    "names = []\n",
    "teffs = []\n",
    "loggs = []\n",
    "mhs = []\n",
    "ams = []\n",
    "\n",
    "i = 0\n",
    "for file in files: \n",
    "    votable = parse(file)\n",
    "\n",
    "    name = file.split(\"/\")[-1].split(\".\")[0].split(\" \")[-1]\n",
    "    \n",
    "\n",
    "    if i == 0:\n",
    "        wl_range = votable.get_first_table().array['wavelength']*10\n",
    "    fl = votable.get_first_table().array['flux']\n",
    "    snr = np.median(votable.get_first_table().array['flux']/votable.get_first_table().array['flux_error'])\n",
    "\n",
    "    \n",
    "    if (snr > 10) & (int(name) in par.source_id.values):\n",
    "        spectra = pd.concat([spectra, pd.DataFrame(fl).T], ignore_index=True)\n",
    "        snrs.append(snr)\n",
    "        names.append(name)\n",
    "\n",
    "        teffs.append(par[par.source_id == int(name)].teff.values[0])\n",
    "        loggs.append(par[par.source_id == int(name)].logg.values[0])\n",
    "        mhs.append(par[par.source_id == int(name)].mh.values[0])\n",
    "        ams.append(par[par.source_id == int(name)].alpham.values[0])\n",
    "    i+=1\n",
    "\n",
    "spectra = spectra.fillna(1)\n",
    "\n",
    "spectra_std = StandardScaler().fit_transform(spectra)\n",
    "\n",
    "spectra.shape\n"
   ]
  },
  {
   "cell_type": "markdown",
   "metadata": {},
   "source": [
    "# Plotting data"
   ]
  },
  {
   "cell_type": "markdown",
   "metadata": {},
   "source": [
    "## Spectra sample"
   ]
  },
  {
   "cell_type": "code",
   "execution_count": null,
   "metadata": {},
   "outputs": [],
   "source": [
    "plot_spectra(spectra.loc[spectra.sample(n=10).index.values], wl_range)"
   ]
  },
  {
   "cell_type": "markdown",
   "metadata": {},
   "source": [
    "## Kiel diagram"
   ]
  },
  {
   "cell_type": "code",
   "execution_count": null,
   "metadata": {},
   "outputs": [],
   "source": []
  },
  {
   "cell_type": "markdown",
   "metadata": {},
   "source": [
    "## Metallicity distribution"
   ]
  },
  {
   "cell_type": "code",
   "execution_count": null,
   "metadata": {},
   "outputs": [],
   "source": []
  },
  {
   "cell_type": "markdown",
   "metadata": {},
   "source": [
    "## alpha/Fe vs. Fe"
   ]
  },
  {
   "cell_type": "code",
   "execution_count": null,
   "metadata": {},
   "outputs": [],
   "source": []
  },
  {
   "cell_type": "markdown",
   "metadata": {},
   "source": [
    "## Explore spectra with different parameters"
   ]
  },
  {
   "cell_type": "code",
   "execution_count": null,
   "metadata": {},
   "outputs": [],
   "source": []
  },
  {
   "cell_type": "markdown",
   "metadata": {},
   "source": [
    "# Dimensionality reduction"
   ]
  },
  {
   "cell_type": "markdown",
   "metadata": {},
   "source": [
    "**Note:** *reduced X & Y  = algorithm_results[:, 0] & algorithm_results[:, 1]*"
   ]
  },
  {
   "cell_type": "markdown",
   "metadata": {},
   "source": [
    "## PCA (Principal Component Analysis)"
   ]
  },
  {
   "cell_type": "code",
   "execution_count": 13,
   "metadata": {},
   "outputs": [],
   "source": [
    "pca = PCA(n_components=2)\n",
    "pca_results = pca.fit_transform(spectra_std)"
   ]
  },
  {
   "cell_type": "code",
   "execution_count": null,
   "metadata": {},
   "outputs": [],
   "source": [
    "## Plot results and colour-code by different parameters\n",
    "\n"
   ]
  },
  {
   "cell_type": "markdown",
   "metadata": {},
   "source": [
    "## t-SNE (t-distributed Stochastic Neighbor Embedding)"
   ]
  },
  {
   "cell_type": "code",
   "execution_count": null,
   "metadata": {},
   "outputs": [],
   "source": [
    "tsne = TSNE(n_components=2, verbose=1, perplexity=40, n_iter=300)\n",
    "tsne_results = tsne.fit_transform(spectra_std)"
   ]
  },
  {
   "cell_type": "code",
   "execution_count": null,
   "metadata": {},
   "outputs": [],
   "source": [
    "## Plot results and colour-code by different parameters\n",
    "\n"
   ]
  },
  {
   "cell_type": "markdown",
   "metadata": {},
   "source": [
    "## UMAP (Uniform Manifold Approximation and Projection)"
   ]
  },
  {
   "cell_type": "code",
   "execution_count": null,
   "metadata": {},
   "outputs": [],
   "source": [
    "reducer = umap.UMAP()\n",
    "umap_results = reducer.fit_transform(spectra_std)"
   ]
  },
  {
   "cell_type": "code",
   "execution_count": null,
   "metadata": {},
   "outputs": [],
   "source": [
    "## Plot results and colour-code by different parameters\n",
    "\n"
   ]
  }
 ],
 "metadata": {
  "anaconda-cloud": {},
  "kernelspec": {
   "display_name": "base",
   "language": "python",
   "name": "python3"
  },
  "language_info": {
   "codemirror_mode": {
    "name": "ipython",
    "version": 3
   },
   "file_extension": ".py",
   "mimetype": "text/x-python",
   "name": "python",
   "nbconvert_exporter": "python",
   "pygments_lexer": "ipython3",
   "version": "3.9.15"
  }
 },
 "nbformat": 4,
 "nbformat_minor": 4
}
